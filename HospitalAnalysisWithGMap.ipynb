{
 "cells": [
  {
   "cell_type": "code",
   "execution_count": 2,
   "metadata": {},
   "outputs": [],
   "source": [
    "from main import DataLoader\n",
    "from main import DataHandler\n",
    "from main import googleapi\n",
    "from matplotlib import pyplot as plt\n",
    "from scipy.stats import linregress\n",
    "import numpy as np\n",
    "from sklearn import datasets\n",
    "import pandas as pd\n",
    "import json\n",
    "import gmaps\n",
    "import requests\n",
    "from config import googlekey\n",
    "from ipywidgets.embed import embed_minimal_html\n",
    "from IPython.display import display, HTML"
   ]
  },
  {
   "cell_type": "markdown",
   "metadata": {},
   "source": [
    "#### --------------This Step will take more than 30 mins to run"
   ]
  },
  {
   "cell_type": "code",
   "execution_count": 2,
   "metadata": {},
   "outputs": [
    {
     "name": "stdout",
     "output_type": "stream",
     "text": [
      "407\n",
      "407\n"
     ]
    }
   ],
   "source": [
    "#########################--------------This Step will take more than 30 mins to run-----------------##################################################\n",
    "#Filtering Five Star Rated Hopitals using the Function DataHandler in main.py\n",
    "#This Action has 3 steps\n",
    "#1. Extracts the Hospital Data from S3\n",
    "#2. Filters the Data for 5 star rating\n",
    "#3. Calls the Google GeoCode API to get the Lat and Lon Co-ordinates and builds a new dataframe as output\n",
    "fivestar=DataHandler.HospitalDataStarFilter(5)"
   ]
  },
  {
   "cell_type": "code",
   "execution_count": null,
   "metadata": {},
   "outputs": [],
   "source": []
  },
  {
   "cell_type": "code",
   "execution_count": null,
   "metadata": {},
   "outputs": [],
   "source": [
    "#Save the Output File to a local path\n",
    "output = fivestar.to_csv(\"./output/fivestarhospitaldata.csv\")"
   ]
  },
  {
   "cell_type": "code",
   "execution_count": 3,
   "metadata": {},
   "outputs": [],
   "source": [
    "#Load the Output File from the local path\n",
    "fivestarread=pd.read_csv(\"./output/fivestarhospitaldata.csv\")"
   ]
  },
  {
   "cell_type": "code",
   "execution_count": 5,
   "metadata": {},
   "outputs": [
    {
     "data": {
      "text/html": [
       "<div>\n",
       "<style scoped>\n",
       "    .dataframe tbody tr th:only-of-type {\n",
       "        vertical-align: middle;\n",
       "    }\n",
       "\n",
       "    .dataframe tbody tr th {\n",
       "        vertical-align: top;\n",
       "    }\n",
       "\n",
       "    .dataframe thead th {\n",
       "        text-align: right;\n",
       "    }\n",
       "</style>\n",
       "<table border=\"1\" class=\"dataframe\">\n",
       "  <thead>\n",
       "    <tr style=\"text-align: right;\">\n",
       "      <th></th>\n",
       "      <th>Unnamed: 0</th>\n",
       "      <th>Facility Name</th>\n",
       "      <th>Address</th>\n",
       "      <th>City</th>\n",
       "      <th>State</th>\n",
       "      <th>Hospital Ownership</th>\n",
       "      <th>Lat</th>\n",
       "      <th>Lng</th>\n",
       "    </tr>\n",
       "  </thead>\n",
       "  <tbody>\n",
       "    <tr>\n",
       "      <th>0</th>\n",
       "      <td>23</td>\n",
       "      <td>FAYETTE MEDICAL CENTER</td>\n",
       "      <td>1653 TEMPLE AVENUE NORTH</td>\n",
       "      <td>FAYETTE</td>\n",
       "      <td>AL</td>\n",
       "      <td>Voluntary non-profit - Other</td>\n",
       "      <td>33.708027</td>\n",
       "      <td>-87.824218</td>\n",
       "    </tr>\n",
       "    <tr>\n",
       "      <th>1</th>\n",
       "      <td>39</td>\n",
       "      <td>SOUTH BALDWIN REGIONAL MEDICAL CENTER</td>\n",
       "      <td>1613 NORTH MCKENZIE STREET</td>\n",
       "      <td>FOLEY</td>\n",
       "      <td>AL</td>\n",
       "      <td>Proprietary</td>\n",
       "      <td>30.426094</td>\n",
       "      <td>-87.684308</td>\n",
       "    </tr>\n",
       "    <tr>\n",
       "      <th>2</th>\n",
       "      <td>55</td>\n",
       "      <td>PRATTVILLE BAPTIST HOSPITAL</td>\n",
       "      <td>124 S MEMORIAL DR</td>\n",
       "      <td>PRATTVILLE</td>\n",
       "      <td>AL</td>\n",
       "      <td>Government - Hospital District or Authority</td>\n",
       "      <td>32.463778</td>\n",
       "      <td>-86.451938</td>\n",
       "    </tr>\n",
       "    <tr>\n",
       "      <th>3</th>\n",
       "      <td>63</td>\n",
       "      <td>LAKELAND COMMUNITY HOSPITAL</td>\n",
       "      <td>42024 HIGHWAY 195 E</td>\n",
       "      <td>HALEYVILLE</td>\n",
       "      <td>AL</td>\n",
       "      <td>Voluntary non-profit - Church</td>\n",
       "      <td>34.247971</td>\n",
       "      <td>-87.578415</td>\n",
       "    </tr>\n",
       "    <tr>\n",
       "      <th>4</th>\n",
       "      <td>73</td>\n",
       "      <td>BAPTIST MEDICAL CENTER EAST</td>\n",
       "      <td>400 TAYLOR ROAD</td>\n",
       "      <td>MONTGOMERY</td>\n",
       "      <td>AL</td>\n",
       "      <td>Government - Hospital District or Authority</td>\n",
       "      <td>32.376024</td>\n",
       "      <td>-86.174858</td>\n",
       "    </tr>\n",
       "    <tr>\n",
       "      <th>...</th>\n",
       "      <td>...</td>\n",
       "      <td>...</td>\n",
       "      <td>...</td>\n",
       "      <td>...</td>\n",
       "      <td>...</td>\n",
       "      <td>...</td>\n",
       "      <td>...</td>\n",
       "      <td>...</td>\n",
       "    </tr>\n",
       "    <tr>\n",
       "      <th>402</th>\n",
       "      <td>5287</td>\n",
       "      <td>TEXAS HEALTH PRESBYTERIAN HOSPITAL ROCKWALL</td>\n",
       "      <td>3150 HORIZON ROAD</td>\n",
       "      <td>ROCKWALL</td>\n",
       "      <td>TX</td>\n",
       "      <td>Proprietary</td>\n",
       "      <td>32.884356</td>\n",
       "      <td>-96.466162</td>\n",
       "    </tr>\n",
       "    <tr>\n",
       "      <th>403</th>\n",
       "      <td>5297</td>\n",
       "      <td>SOUTH TEXAS SURGICAL HOSPITAL</td>\n",
       "      <td>6130 PARKWAY DRIVE</td>\n",
       "      <td>CORPUS CHRISTI</td>\n",
       "      <td>TX</td>\n",
       "      <td>Proprietary</td>\n",
       "      <td>27.686359</td>\n",
       "      <td>-97.375324</td>\n",
       "    </tr>\n",
       "    <tr>\n",
       "      <th>404</th>\n",
       "      <td>5302</td>\n",
       "      <td>TEXAS HEALTH HEART &amp; VASCULAR HOSPITAL ARLINGTON</td>\n",
       "      <td>811 WRIGHT STREET</td>\n",
       "      <td>ARLINGTON</td>\n",
       "      <td>TX</td>\n",
       "      <td>Proprietary</td>\n",
       "      <td>32.747709</td>\n",
       "      <td>-97.117044</td>\n",
       "    </tr>\n",
       "    <tr>\n",
       "      <th>405</th>\n",
       "      <td>5307</td>\n",
       "      <td>BAPTIST EMERGENCY HOSPITAL</td>\n",
       "      <td>16088 SAN PEDRO</td>\n",
       "      <td>SAN ANTONIO</td>\n",
       "      <td>TX</td>\n",
       "      <td>Proprietary</td>\n",
       "      <td>29.587828</td>\n",
       "      <td>-98.473486</td>\n",
       "    </tr>\n",
       "    <tr>\n",
       "      <th>406</th>\n",
       "      <td>5322</td>\n",
       "      <td>BAYLOR SCOTT &amp; WHITE MEDICAL CENTER - MARBLE F...</td>\n",
       "      <td>810 W HIGHWAY 71</td>\n",
       "      <td>MARBLE FALLS</td>\n",
       "      <td>TX</td>\n",
       "      <td>Voluntary non-profit - Private</td>\n",
       "      <td>30.512975</td>\n",
       "      <td>-98.304481</td>\n",
       "    </tr>\n",
       "  </tbody>\n",
       "</table>\n",
       "<p>406 rows × 8 columns</p>\n",
       "</div>"
      ],
      "text/plain": [
       "     Unnamed: 0                                      Facility Name  \\\n",
       "0            23                             FAYETTE MEDICAL CENTER   \n",
       "1            39              SOUTH BALDWIN REGIONAL MEDICAL CENTER   \n",
       "2            55                        PRATTVILLE BAPTIST HOSPITAL   \n",
       "3            63                        LAKELAND COMMUNITY HOSPITAL   \n",
       "4            73                        BAPTIST MEDICAL CENTER EAST   \n",
       "..          ...                                                ...   \n",
       "402        5287        TEXAS HEALTH PRESBYTERIAN HOSPITAL ROCKWALL   \n",
       "403        5297                      SOUTH TEXAS SURGICAL HOSPITAL   \n",
       "404        5302   TEXAS HEALTH HEART & VASCULAR HOSPITAL ARLINGTON   \n",
       "405        5307                         BAPTIST EMERGENCY HOSPITAL   \n",
       "406        5322  BAYLOR SCOTT & WHITE MEDICAL CENTER - MARBLE F...   \n",
       "\n",
       "                        Address            City State  \\\n",
       "0      1653 TEMPLE AVENUE NORTH         FAYETTE    AL   \n",
       "1    1613 NORTH MCKENZIE STREET           FOLEY    AL   \n",
       "2             124 S MEMORIAL DR      PRATTVILLE    AL   \n",
       "3           42024 HIGHWAY 195 E      HALEYVILLE    AL   \n",
       "4               400 TAYLOR ROAD      MONTGOMERY    AL   \n",
       "..                          ...             ...   ...   \n",
       "402           3150 HORIZON ROAD        ROCKWALL    TX   \n",
       "403          6130 PARKWAY DRIVE  CORPUS CHRISTI    TX   \n",
       "404           811 WRIGHT STREET       ARLINGTON    TX   \n",
       "405             16088 SAN PEDRO     SAN ANTONIO    TX   \n",
       "406            810 W HIGHWAY 71    MARBLE FALLS    TX   \n",
       "\n",
       "                              Hospital Ownership        Lat        Lng  \n",
       "0                   Voluntary non-profit - Other  33.708027 -87.824218  \n",
       "1                                    Proprietary  30.426094 -87.684308  \n",
       "2    Government - Hospital District or Authority  32.463778 -86.451938  \n",
       "3                  Voluntary non-profit - Church  34.247971 -87.578415  \n",
       "4    Government - Hospital District or Authority  32.376024 -86.174858  \n",
       "..                                           ...        ...        ...  \n",
       "402                                  Proprietary  32.884356 -96.466162  \n",
       "403                                  Proprietary  27.686359 -97.375324  \n",
       "404                                  Proprietary  32.747709 -97.117044  \n",
       "405                                  Proprietary  29.587828 -98.473486  \n",
       "406               Voluntary non-profit - Private  30.512975 -98.304481  \n",
       "\n",
       "[406 rows x 8 columns]"
      ]
     },
     "execution_count": 5,
     "metadata": {},
     "output_type": "execute_result"
    }
   ],
   "source": [
    "#Drop Null values if any\n",
    "fivestarfresh=fivestarread\n",
    "fivestarfresh=fivestarfresh.dropna(how=\"any\")\n",
    "fivestarfresh"
   ]
  },
  {
   "cell_type": "code",
   "execution_count": 6,
   "metadata": {},
   "outputs": [],
   "source": [
    "# Configure Google API Key for GMAPS\n",
    "gmaps.configure(api_key=googlekey)\n",
    "# Store 'Lat' and 'Lng' into  locations \n",
    "locations = fivestarfresh[[\"Lat\", \"Lng\"]].astype(float)\n",
    "myfig = gmaps.figure(center=(39, -73), zoom_level=3.9)"
   ]
  },
  {
   "cell_type": "code",
   "execution_count": 7,
   "metadata": {},
   "outputs": [],
   "source": [
    "# Using the template add the hotel marks to the heatmap\n",
    "info_box_template = \"\"\"\n",
    "<dl>\n",
    "<dt>Name</dt><dd>{Facility Name}</dd>\n",
    "<dt>City</dt><dd>{City}</dd>\n",
    "<dt>Country</dt><dd>{State}</dd>\n",
    "</dl>\n",
    "\"\"\"\n",
    "# Store the DataFrame Row\n",
    "# NOTE: be sure to update with your DataFrame name\n",
    "MyInfoTemplate = [info_box_template.format(**row) for index, row in fivestarfresh.iterrows()]\n",
    "#locations = hotel_df[[\"Lat\", \"Lng\"]]"
   ]
  },
  {
   "cell_type": "code",
   "execution_count": 8,
   "metadata": {},
   "outputs": [
    {
     "data": {
      "text/html": [
       " <span style=\"color:#43609C\">Hospital Markers: <h1>Five Star Rated Hospitals</h1> </span>  "
      ],
      "text/plain": [
       "<IPython.core.display.HTML object>"
      ]
     },
     "metadata": {},
     "output_type": "display_data"
    },
    {
     "data": {
      "application/vnd.jupyter.widget-view+json": {
       "model_id": "2a6e8cea868b46f8a5dbbfe5cbbab2a5",
       "version_major": 2,
       "version_minor": 0
      },
      "text/plain": [
       "Figure(layout=FigureLayout(height='420px'))"
      ]
     },
     "metadata": {},
     "output_type": "display_data"
    }
   ],
   "source": [
    "# Add marker layer ontop of heat map\n",
    "Hover=np.array(fivestarfresh[\"Facility Name\"])\n",
    "Hospital_Layer=gmaps.marker_layer(locations,hover_text=Hover,info_box_content=MyInfoTemplate,display_info_box=True)\n",
    "myfig.add_layer(Hospital_Layer)\n",
    "#Save the Map\n",
    "embed_minimal_html('./output/GMAP_HospitalMarkerOnHeatMap.html', views=[myfig])\n",
    "# Display Map\n",
    "display(HTML(' <span style=\"color:#43609C\">Hospital Markers: <h1>Five Star Rated Hospitals</h1> </span>  '))\n",
    "myfig"
   ]
  },
  {
   "cell_type": "code",
   "execution_count": null,
   "metadata": {},
   "outputs": [],
   "source": []
  }
 ],
 "metadata": {
  "kernelspec": {
   "display_name": "Python 3",
   "language": "python",
   "name": "python3"
  },
  "language_info": {
   "codemirror_mode": {
    "name": "ipython",
    "version": 3
   },
   "file_extension": ".py",
   "mimetype": "text/x-python",
   "name": "python",
   "nbconvert_exporter": "python",
   "pygments_lexer": "ipython3",
   "version": "3.6.9"
  }
 },
 "nbformat": 4,
 "nbformat_minor": 2
}
