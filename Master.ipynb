{
 "cells": [
  {
   "cell_type": "code",
   "execution_count": 1,
   "metadata": {},
   "outputs": [],
   "source": [
    "from main import DataLoader\n",
    "from main import DataHandler\n",
    "from main import googleapi\n",
    "from matplotlib import pyplot as plt\n",
    "from scipy.stats import linregress\n",
    "import numpy as np\n",
    "from sklearn import datasets\n",
    "import pandas as pd\n",
    "import json\n",
    "import gmaps\n",
    "import requests\n",
    "from config import googlekey"
   ]
  },
  {
   "cell_type": "code",
   "execution_count": 2,
   "metadata": {},
   "outputs": [
    {
     "name": "stdout",
     "output_type": "stream",
     "text": [
      "407\n",
      "407\n"
     ]
    }
   ],
   "source": [
    "fivestar=DataHandler.HospitalDataStarFilter(5)"
   ]
  },
  {
   "cell_type": "code",
   "execution_count": 3,
   "metadata": {},
   "outputs": [],
   "source": [
    "output = fivestar.to_csv(\"./output/fivestarhospitaldata.csv\")"
   ]
  },
  {
   "cell_type": "code",
   "execution_count": 24,
   "metadata": {},
   "outputs": [
    {
     "data": {
      "text/html": [
       "<div>\n",
       "<style scoped>\n",
       "    .dataframe tbody tr th:only-of-type {\n",
       "        vertical-align: middle;\n",
       "    }\n",
       "\n",
       "    .dataframe tbody tr th {\n",
       "        vertical-align: top;\n",
       "    }\n",
       "\n",
       "    .dataframe thead th {\n",
       "        text-align: right;\n",
       "    }\n",
       "</style>\n",
       "<table border=\"1\" class=\"dataframe\">\n",
       "  <thead>\n",
       "    <tr style=\"text-align: right;\">\n",
       "      <th></th>\n",
       "      <th>Facility Name</th>\n",
       "      <th>Address</th>\n",
       "      <th>City</th>\n",
       "      <th>State</th>\n",
       "      <th>Hospital Ownership</th>\n",
       "      <th>Lat</th>\n",
       "      <th>Lng</th>\n",
       "    </tr>\n",
       "  </thead>\n",
       "  <tbody>\n",
       "    <tr>\n",
       "      <th>23</th>\n",
       "      <td>FAYETTE MEDICAL CENTER</td>\n",
       "      <td>1653 TEMPLE AVENUE NORTH</td>\n",
       "      <td>FAYETTE</td>\n",
       "      <td>AL</td>\n",
       "      <td>Voluntary non-profit - Other</td>\n",
       "      <td>33.708</td>\n",
       "      <td>-87.8242</td>\n",
       "    </tr>\n",
       "    <tr>\n",
       "      <th>39</th>\n",
       "      <td>SOUTH BALDWIN REGIONAL MEDICAL CENTER</td>\n",
       "      <td>1613 NORTH MCKENZIE STREET</td>\n",
       "      <td>FOLEY</td>\n",
       "      <td>AL</td>\n",
       "      <td>Proprietary</td>\n",
       "      <td>30.4261</td>\n",
       "      <td>-87.6843</td>\n",
       "    </tr>\n",
       "    <tr>\n",
       "      <th>55</th>\n",
       "      <td>PRATTVILLE BAPTIST HOSPITAL</td>\n",
       "      <td>124 S MEMORIAL DR</td>\n",
       "      <td>PRATTVILLE</td>\n",
       "      <td>AL</td>\n",
       "      <td>Government - Hospital District or Authority</td>\n",
       "      <td>32.4638</td>\n",
       "      <td>-86.4519</td>\n",
       "    </tr>\n",
       "    <tr>\n",
       "      <th>63</th>\n",
       "      <td>LAKELAND COMMUNITY HOSPITAL</td>\n",
       "      <td>42024 HIGHWAY 195 E</td>\n",
       "      <td>HALEYVILLE</td>\n",
       "      <td>AL</td>\n",
       "      <td>Voluntary non-profit - Church</td>\n",
       "      <td>34.248</td>\n",
       "      <td>-87.5784</td>\n",
       "    </tr>\n",
       "    <tr>\n",
       "      <th>73</th>\n",
       "      <td>BAPTIST MEDICAL CENTER EAST</td>\n",
       "      <td>400 TAYLOR ROAD</td>\n",
       "      <td>MONTGOMERY</td>\n",
       "      <td>AL</td>\n",
       "      <td>Government - Hospital District or Authority</td>\n",
       "      <td>32.376</td>\n",
       "      <td>-86.1749</td>\n",
       "    </tr>\n",
       "    <tr>\n",
       "      <th>...</th>\n",
       "      <td>...</td>\n",
       "      <td>...</td>\n",
       "      <td>...</td>\n",
       "      <td>...</td>\n",
       "      <td>...</td>\n",
       "      <td>...</td>\n",
       "      <td>...</td>\n",
       "    </tr>\n",
       "    <tr>\n",
       "      <th>5287</th>\n",
       "      <td>TEXAS HEALTH PRESBYTERIAN HOSPITAL ROCKWALL</td>\n",
       "      <td>3150 HORIZON ROAD</td>\n",
       "      <td>ROCKWALL</td>\n",
       "      <td>TX</td>\n",
       "      <td>Proprietary</td>\n",
       "      <td>32.8844</td>\n",
       "      <td>-96.4662</td>\n",
       "    </tr>\n",
       "    <tr>\n",
       "      <th>5297</th>\n",
       "      <td>SOUTH TEXAS SURGICAL HOSPITAL</td>\n",
       "      <td>6130 PARKWAY DRIVE</td>\n",
       "      <td>CORPUS CHRISTI</td>\n",
       "      <td>TX</td>\n",
       "      <td>Proprietary</td>\n",
       "      <td>27.6864</td>\n",
       "      <td>-97.3753</td>\n",
       "    </tr>\n",
       "    <tr>\n",
       "      <th>5302</th>\n",
       "      <td>TEXAS HEALTH HEART &amp; VASCULAR HOSPITAL ARLINGTON</td>\n",
       "      <td>811 WRIGHT STREET</td>\n",
       "      <td>ARLINGTON</td>\n",
       "      <td>TX</td>\n",
       "      <td>Proprietary</td>\n",
       "      <td>32.7477</td>\n",
       "      <td>-97.117</td>\n",
       "    </tr>\n",
       "    <tr>\n",
       "      <th>5307</th>\n",
       "      <td>BAPTIST EMERGENCY HOSPITAL</td>\n",
       "      <td>16088 SAN PEDRO</td>\n",
       "      <td>SAN ANTONIO</td>\n",
       "      <td>TX</td>\n",
       "      <td>Proprietary</td>\n",
       "      <td>29.5878</td>\n",
       "      <td>-98.4735</td>\n",
       "    </tr>\n",
       "    <tr>\n",
       "      <th>5322</th>\n",
       "      <td>BAYLOR SCOTT &amp; WHITE MEDICAL CENTER - MARBLE F...</td>\n",
       "      <td>810 W HIGHWAY 71</td>\n",
       "      <td>MARBLE FALLS</td>\n",
       "      <td>TX</td>\n",
       "      <td>Voluntary non-profit - Private</td>\n",
       "      <td>30.513</td>\n",
       "      <td>-98.3045</td>\n",
       "    </tr>\n",
       "  </tbody>\n",
       "</table>\n",
       "<p>406 rows × 7 columns</p>\n",
       "</div>"
      ],
      "text/plain": [
       "                                          Facility Name  \\\n",
       "23                               FAYETTE MEDICAL CENTER   \n",
       "39                SOUTH BALDWIN REGIONAL MEDICAL CENTER   \n",
       "55                          PRATTVILLE BAPTIST HOSPITAL   \n",
       "63                          LAKELAND COMMUNITY HOSPITAL   \n",
       "73                          BAPTIST MEDICAL CENTER EAST   \n",
       "...                                                 ...   \n",
       "5287        TEXAS HEALTH PRESBYTERIAN HOSPITAL ROCKWALL   \n",
       "5297                      SOUTH TEXAS SURGICAL HOSPITAL   \n",
       "5302   TEXAS HEALTH HEART & VASCULAR HOSPITAL ARLINGTON   \n",
       "5307                         BAPTIST EMERGENCY HOSPITAL   \n",
       "5322  BAYLOR SCOTT & WHITE MEDICAL CENTER - MARBLE F...   \n",
       "\n",
       "                         Address            City State  \\\n",
       "23      1653 TEMPLE AVENUE NORTH         FAYETTE    AL   \n",
       "39    1613 NORTH MCKENZIE STREET           FOLEY    AL   \n",
       "55             124 S MEMORIAL DR      PRATTVILLE    AL   \n",
       "63           42024 HIGHWAY 195 E      HALEYVILLE    AL   \n",
       "73               400 TAYLOR ROAD      MONTGOMERY    AL   \n",
       "...                          ...             ...   ...   \n",
       "5287           3150 HORIZON ROAD        ROCKWALL    TX   \n",
       "5297          6130 PARKWAY DRIVE  CORPUS CHRISTI    TX   \n",
       "5302           811 WRIGHT STREET       ARLINGTON    TX   \n",
       "5307             16088 SAN PEDRO     SAN ANTONIO    TX   \n",
       "5322            810 W HIGHWAY 71    MARBLE FALLS    TX   \n",
       "\n",
       "                               Hospital Ownership      Lat      Lng  \n",
       "23                   Voluntary non-profit - Other   33.708 -87.8242  \n",
       "39                                    Proprietary  30.4261 -87.6843  \n",
       "55    Government - Hospital District or Authority  32.4638 -86.4519  \n",
       "63                  Voluntary non-profit - Church   34.248 -87.5784  \n",
       "73    Government - Hospital District or Authority   32.376 -86.1749  \n",
       "...                                           ...      ...      ...  \n",
       "5287                                  Proprietary  32.8844 -96.4662  \n",
       "5297                                  Proprietary  27.6864 -97.3753  \n",
       "5302                                  Proprietary  32.7477  -97.117  \n",
       "5307                                  Proprietary  29.5878 -98.4735  \n",
       "5322               Voluntary non-profit - Private   30.513 -98.3045  \n",
       "\n",
       "[406 rows x 7 columns]"
      ]
     },
     "execution_count": 24,
     "metadata": {},
     "output_type": "execute_result"
    }
   ],
   "source": [
    "fivestarfresh = fivestar.loc[(fivestar[\"Lat\"] != \"NaN\") & (fivestar[\"Lng\"] != \"NaN\")]\n",
    "fivestarfresh"
   ]
  },
  {
   "cell_type": "code",
   "execution_count": 43,
   "metadata": {},
   "outputs": [],
   "source": [
    "def getLatLon(Address):    \n",
    "    #Send request and receive json data by address\n",
    "    target_url = ('https://maps.googleapis.com/maps/api/geocode/json?''address={0}&key={1}').format(Address, googlekey)\n",
    "    geo_data = requests.get(target_url).json()\n",
    "    lat = geo_data[\"results\"][0][\"geometry\"][\"location\"][\"lat\"]\n",
    "    lng = geo_data[\"results\"][0][\"geometry\"][\"location\"][\"lng\"]\n",
    "    print(geo_data)\n",
    "    return lat,lng"
   ]
  },
  {
   "cell_type": "code",
   "execution_count": 44,
   "metadata": {},
   "outputs": [
    {
     "name": "stdout",
     "output_type": "stream",
     "text": [
      "{'results': [{'address_components': [{'long_name': '4794', 'short_name': '4794', 'types': ['street_number']}, {'long_name': 'Olde Village Cove', 'short_name': 'Olde Village Cove', 'types': ['route']}, {'long_name': 'Dunwoody', 'short_name': 'Dunwoody', 'types': ['neighborhood', 'political']}, {'long_name': 'Atlanta', 'short_name': 'Atlanta', 'types': ['locality', 'political']}, {'long_name': 'DeKalb County', 'short_name': 'Dekalb County', 'types': ['administrative_area_level_2', 'political']}, {'long_name': 'Georgia', 'short_name': 'GA', 'types': ['administrative_area_level_1', 'political']}, {'long_name': 'United States', 'short_name': 'US', 'types': ['country', 'political']}, {'long_name': '30338', 'short_name': '30338', 'types': ['postal_code']}, {'long_name': '5054', 'short_name': '5054', 'types': ['postal_code_suffix']}], 'formatted_address': '4794 Olde Village Cove, Atlanta, GA 30338, USA', 'geometry': {'bounds': {'northeast': {'lat': 33.9358933, 'lng': -84.31271369999999}, 'southwest': {'lat': 33.9357312, 'lng': -84.3128885}}, 'location': {'lat': 33.9358141, 'lng': -84.31282519999999}, 'location_type': 'ROOFTOP', 'viewport': {'northeast': {'lat': 33.9371612302915, 'lng': -84.31145211970849}, 'southwest': {'lat': 33.9344632697085, 'lng': -84.31415008029151}}}, 'place_id': 'ChIJDV_jJ9UL9YgRKzPyfB8TupQ', 'types': ['premise']}], 'status': 'OK'}\n"
     ]
    },
    {
     "data": {
      "text/plain": [
       "(33.9358141, -84.31282519999999)"
      ]
     },
     "execution_count": 44,
     "metadata": {},
     "output_type": "execute_result"
    }
   ],
   "source": [
    "getLatLon(\"4794 Olde Village Cove\")"
   ]
  },
  {
   "cell_type": "code",
   "execution_count": null,
   "metadata": {},
   "outputs": [],
   "source": [
    "googleapi.getLatLon(\"4794 Olde Village Cove\")"
   ]
  },
  {
   "cell_type": "code",
   "execution_count": 29,
   "metadata": {},
   "outputs": [],
   "source": [
    "gmaps.configure(api_key=googlekey)\n",
    "# Store 'Lat' and 'Lng' into  locations \n",
    "locations = fivestarfresh[[\"Lat\", \"Lng\"]].astype(float)\n",
    "\n",
    "# Convert Poverty Rate to float and store\n",
    "# HINT: be sure to handle NaN values\n",
    "#CityData= CityData.dropna()"
   ]
  },
  {
   "cell_type": "code",
   "execution_count": null,
   "metadata": {},
   "outputs": [],
   "source": [
    "fivestar.head()"
   ]
  },
  {
   "cell_type": "code",
   "execution_count": 30,
   "metadata": {},
   "outputs": [],
   "source": [
    "# Using the template add the hotel marks to the heatmap\n",
    "info_box_template = \"\"\"\n",
    "<dl>\n",
    "<dt>Name</dt><dd>{Facility Name}</dd>\n",
    "<dt>City</dt><dd>{City}</dd>\n",
    "<dt>Country</dt><dd>{State}</dd>\n",
    "</dl>\n",
    "\"\"\"\n",
    "# Store the DataFrame Row\n",
    "# NOTE: be sure to update with your DataFrame name\n",
    "MyInfoTemplate = [info_box_template.format(**row) for index, row in fivestarfresh.iterrows()]\n",
    "#locations = hotel_df[[\"Lat\", \"Lng\"]]"
   ]
  },
  {
   "cell_type": "code",
   "execution_count": 49,
   "metadata": {},
   "outputs": [],
   "source": [
    "# Create a Humidiy Heatmap layer \n",
    "myfig = gmaps.figure(center=(33.9, -84.31), zoom_level=3)\n",
    "\n",
    "#HeatLayer = gmaps.heatmap_layer(locations, weights=HumidityValue,dissipating=False, max_intensity=maxHumidity, point_radius = 1)\n",
    "\n",
    "#myfig.add_layer(HeatLayer)\n",
    "#embed_minimal_html('../output_data/GMAP_HeatMap.html', views=[myfig])\n",
    "\n",
    "#myfig"
   ]
  },
  {
   "cell_type": "code",
   "execution_count": 50,
   "metadata": {},
   "outputs": [
    {
     "data": {
      "application/vnd.jupyter.widget-view+json": {
       "model_id": "305a054748fe4a83a9913c54c453c47e",
       "version_major": 2,
       "version_minor": 0
      },
      "text/plain": [
       "Figure(layout=FigureLayout(height='420px'))"
      ]
     },
     "metadata": {},
     "output_type": "display_data"
    }
   ],
   "source": [
    "# Add marker layer ontop of heat map\n",
    "Hover=np.array(fivestarfresh[\"Facility Name\"])\n",
    "Hospital_Layer=gmaps.marker_layer(locations,hover_text=Hover,info_box_content=MyInfoTemplate,display_info_box=True)\n",
    "myfig.add_layer(Hospital_Layer)\n",
    "#Save the Map\n",
    "#embed_minimal_html('../output/GMAP_HospitalMarkerOnHeatMap.html', views=[myfig])\n",
    "# Display Map\n",
    "myfig"
   ]
  },
  {
   "cell_type": "code",
   "execution_count": null,
   "metadata": {},
   "outputs": [],
   "source": []
  }
 ],
 "metadata": {
  "kernelspec": {
   "display_name": "Python 3",
   "language": "python",
   "name": "python3"
  },
  "language_info": {
   "codemirror_mode": {
    "name": "ipython",
    "version": 3
   },
   "file_extension": ".py",
   "mimetype": "text/x-python",
   "name": "python",
   "nbconvert_exporter": "python",
   "pygments_lexer": "ipython3",
   "version": "3.6.9"
  }
 },
 "nbformat": 4,
 "nbformat_minor": 2
}
